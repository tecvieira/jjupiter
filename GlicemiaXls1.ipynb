{
 "cells": [
  {
   "cell_type": "code",
   "execution_count": 2,
   "id": "8f42c617",
   "metadata": {},
   "outputs": [
    {
     "data": {
      "text/html": [
       "<div>\n",
       "<style scoped>\n",
       "    .dataframe tbody tr th:only-of-type {\n",
       "        vertical-align: middle;\n",
       "    }\n",
       "\n",
       "    .dataframe tbody tr th {\n",
       "        vertical-align: top;\n",
       "    }\n",
       "\n",
       "    .dataframe thead th {\n",
       "        text-align: right;\n",
       "    }\n",
       "</style>\n",
       "<table border=\"1\" class=\"dataframe\">\n",
       "  <thead>\n",
       "    <tr style=\"text-align: right;\">\n",
       "      <th></th>\n",
       "      <th>MED_DE_GLICOSE</th>\n",
       "      <th>DATA</th>\n",
       "      <th>HORARIO</th>\n",
       "    </tr>\n",
       "  </thead>\n",
       "  <tbody>\n",
       "    <tr>\n",
       "      <th>0</th>\n",
       "      <td>100 de glicose</td>\n",
       "      <td>05/06/2021</td>\n",
       "      <td>08:56 hs</td>\n",
       "    </tr>\n",
       "    <tr>\n",
       "      <th>1</th>\n",
       "      <td>109 de glicose</td>\n",
       "      <td>05/06/2021</td>\n",
       "      <td>13:55 hs</td>\n",
       "    </tr>\n",
       "    <tr>\n",
       "      <th>2</th>\n",
       "      <td>0 de glicose</td>\n",
       "      <td>05/06/2021</td>\n",
       "      <td>13:55 hs</td>\n",
       "    </tr>\n",
       "    <tr>\n",
       "      <th>3</th>\n",
       "      <td>133 de glicose</td>\n",
       "      <td>06/06/2021</td>\n",
       "      <td>06:39 hs</td>\n",
       "    </tr>\n",
       "    <tr>\n",
       "      <th>4</th>\n",
       "      <td>137 de glicose</td>\n",
       "      <td>06/06/2021</td>\n",
       "      <td>17:01 hs</td>\n",
       "    </tr>\n",
       "    <tr>\n",
       "      <th>...</th>\n",
       "      <td>...</td>\n",
       "      <td>...</td>\n",
       "      <td>...</td>\n",
       "    </tr>\n",
       "    <tr>\n",
       "      <th>130</th>\n",
       "      <td>148 de glicose</td>\n",
       "      <td>15/09/2021</td>\n",
       "      <td>06:27 hs</td>\n",
       "    </tr>\n",
       "    <tr>\n",
       "      <th>131</th>\n",
       "      <td>81 de glicose</td>\n",
       "      <td>15/09/2021</td>\n",
       "      <td>12:20 hs</td>\n",
       "    </tr>\n",
       "    <tr>\n",
       "      <th>132</th>\n",
       "      <td>103 de glicose</td>\n",
       "      <td>15/09/2021</td>\n",
       "      <td>19:31 hs</td>\n",
       "    </tr>\n",
       "    <tr>\n",
       "      <th>133</th>\n",
       "      <td>138 de glicose</td>\n",
       "      <td>16/09/2021</td>\n",
       "      <td>06:45 hs</td>\n",
       "    </tr>\n",
       "    <tr>\n",
       "      <th>134</th>\n",
       "      <td>138 de glicose</td>\n",
       "      <td>16/09/2021</td>\n",
       "      <td>23:11 hs</td>\n",
       "    </tr>\n",
       "  </tbody>\n",
       "</table>\n",
       "<p>135 rows × 3 columns</p>\n",
       "</div>"
      ],
      "text/plain": [
       "     MED_DE_GLICOSE          DATA          HORARIO\n",
       "0    100 de glicose    05/06/2021         08:56 hs\n",
       "1    109 de glicose    05/06/2021         13:55 hs\n",
       "2      0 de glicose    05/06/2021         13:55 hs\n",
       "3    133 de glicose    06/06/2021         06:39 hs\n",
       "4    137 de glicose    06/06/2021         17:01 hs\n",
       "..              ...           ...              ...\n",
       "130  148 de glicose    15/09/2021         06:27 hs\n",
       "131   81 de glicose    15/09/2021         12:20 hs\n",
       "132  103 de glicose    15/09/2021         19:31 hs\n",
       "133  138 de glicose    16/09/2021         06:45 hs\n",
       "134  138 de glicose    16/09/2021         23:11 hs\n",
       "\n",
       "[135 rows x 3 columns]"
      ]
     },
     "metadata": {},
     "output_type": "display_data"
    }
   ],
   "source": [
    "import pandas as pd\n",
    "# importa a biblioteca pandas e cria apelido pd\n",
    "registro = pd.read_csv('glicemiactrl.txt')\n",
    "# importa o arquivo selecionado para o notebook\n",
    "display(registro)\n",
    "# mostra o arquivo importado\n"
   ]
  },
  {
   "cell_type": "code",
   "execution_count": 3,
   "id": "dcb8c3ad",
   "metadata": {},
   "outputs": [
    {
     "data": {
      "text/plain": [
       "MED_DE_GLICOSE      135\n",
       "  DATA              135\n",
       "         HORARIO    135\n",
       "dtype: int64"
      ]
     },
     "execution_count": 3,
     "metadata": {},
     "output_type": "execute_result"
    }
   ],
   "source": [
    "registro.count()\n",
    "# mostra o total de linhas de cada coluna"
   ]
  },
  {
   "cell_type": "code",
   "execution_count": 4,
   "id": "b8570469",
   "metadata": {},
   "outputs": [
    {
     "data": {
      "text/html": [
       "<div>\n",
       "<style scoped>\n",
       "    .dataframe tbody tr th:only-of-type {\n",
       "        vertical-align: middle;\n",
       "    }\n",
       "\n",
       "    .dataframe tbody tr th {\n",
       "        vertical-align: top;\n",
       "    }\n",
       "\n",
       "    .dataframe thead th {\n",
       "        text-align: right;\n",
       "    }\n",
       "</style>\n",
       "<table border=\"1\" class=\"dataframe\">\n",
       "  <thead>\n",
       "    <tr style=\"text-align: right;\">\n",
       "      <th></th>\n",
       "      <th>MED_DE_GLICOSE</th>\n",
       "      <th>DATA</th>\n",
       "      <th>HORARIO</th>\n",
       "    </tr>\n",
       "  </thead>\n",
       "  <tbody>\n",
       "    <tr>\n",
       "      <th>count</th>\n",
       "      <td>135</td>\n",
       "      <td>135</td>\n",
       "      <td>135</td>\n",
       "    </tr>\n",
       "    <tr>\n",
       "      <th>unique</th>\n",
       "      <td>73</td>\n",
       "      <td>85</td>\n",
       "      <td>106</td>\n",
       "    </tr>\n",
       "    <tr>\n",
       "      <th>top</th>\n",
       "      <td>134 de glicose</td>\n",
       "      <td>20/06/2021</td>\n",
       "      <td>06:35 hs</td>\n",
       "    </tr>\n",
       "    <tr>\n",
       "      <th>freq</th>\n",
       "      <td>6</td>\n",
       "      <td>4</td>\n",
       "      <td>4</td>\n",
       "    </tr>\n",
       "  </tbody>\n",
       "</table>\n",
       "</div>"
      ],
      "text/plain": [
       "        MED_DE_GLICOSE          DATA          HORARIO\n",
       "count              135           135              135\n",
       "unique              73            85              106\n",
       "top     134 de glicose    20/06/2021         06:35 hs\n",
       "freq                 6             4                4"
      ]
     },
     "execution_count": 4,
     "metadata": {},
     "output_type": "execute_result"
    }
   ],
   "source": [
    "registro.describe()"
   ]
  },
  {
   "cell_type": "code",
   "execution_count": 6,
   "id": "8e2c28d2",
   "metadata": {
    "scrolled": true
   },
   "outputs": [
    {
     "data": {
      "text/plain": [
       "array(['100 de glicose', '109 de glicose', '0 de glicose',\n",
       "       '133 de glicose', '137 de glicose', '134 de glicose',\n",
       "       '147 de glicose', '129 de glicose', '121 de glicose',\n",
       "       '158 de glicose', '127 de glicose', '304 de glicose',\n",
       "       '139 de glicose', '111 de glicose', '161 de glicose',\n",
       "       '118 de glicose', '143 de glicose', '174 de glicose',\n",
       "       '126 de glicose', '160 de glicose', '228 de glicose',\n",
       "       '82 de glicose', '122 de glicose', '103 de glicose',\n",
       "       '144 de glicose', '146 de glicose', '136 de glicose',\n",
       "       '159 de glicose', '142 de glicose', '213 de glicose',\n",
       "       '135 de glicose', '107 de glicose', '157 de glicose',\n",
       "       '163 de glicose', '128 de glicose', '89 de glicose',\n",
       "       '92 de glicose', '190 de glicose', '130 de glicose',\n",
       "       '119 de glicose', '222 de glicose', '113 de glicose',\n",
       "       '140 de glicose', '124 de glicose', '223 de glicose',\n",
       "       '195 de glicose', '123 de glicose', '132 de glicose',\n",
       "       '218 de glicose', '91 de glicose', '205 de glicose',\n",
       "       '101 de glicose', '162 de glicose', '131 de glicose',\n",
       "       '182 de glicose', '117 de glicose', '78 de glicose',\n",
       "       '141 de glicose', '77 de glicose', '175 de glicose',\n",
       "       '178 de glicose', '145 de glicose', '104 de glicose',\n",
       "       '99 de glicose', '138 de glicose', '148 de glicose',\n",
       "       '179 de glicose', '67 de glicose', '226 de glicose',\n",
       "       '252 de glicose', '69 de glicose', '154 de glicose',\n",
       "       '81 de glicose'], dtype=object)"
      ]
     },
     "execution_count": 6,
     "metadata": {},
     "output_type": "execute_result"
    }
   ],
   "source": [
    "registro['MED_DE_GLICOSE'].unique()\n",
    "# lista os valores mais frequentes da coluna selecionada"
   ]
  },
  {
   "cell_type": "code",
   "execution_count": 9,
   "id": "f28e8b75",
   "metadata": {},
   "outputs": [
    {
     "data": {
      "text/html": [
       "<div>\n",
       "<style scoped>\n",
       "    .dataframe tbody tr th:only-of-type {\n",
       "        vertical-align: middle;\n",
       "    }\n",
       "\n",
       "    .dataframe tbody tr th {\n",
       "        vertical-align: top;\n",
       "    }\n",
       "\n",
       "    .dataframe thead th {\n",
       "        text-align: right;\n",
       "    }\n",
       "</style>\n",
       "<table border=\"1\" class=\"dataframe\">\n",
       "  <thead>\n",
       "    <tr style=\"text-align: right;\">\n",
       "      <th></th>\n",
       "      <th>MED_DE_GLICOSE</th>\n",
       "      <th>DATA</th>\n",
       "      <th>HORARIO</th>\n",
       "    </tr>\n",
       "  </thead>\n",
       "  <tbody>\n",
       "    <tr>\n",
       "      <th>77</th>\n",
       "      <td>134 de glicose</td>\n",
       "      <td>23/07/2021</td>\n",
       "      <td>06:42 hs</td>\n",
       "    </tr>\n",
       "    <tr>\n",
       "      <th>18</th>\n",
       "      <td>174 de glicose</td>\n",
       "      <td>11/06/2021</td>\n",
       "      <td>21:16 hs</td>\n",
       "    </tr>\n",
       "    <tr>\n",
       "      <th>82</th>\n",
       "      <td>135 de glicose</td>\n",
       "      <td>27/07/2021</td>\n",
       "      <td>07:00 hs</td>\n",
       "    </tr>\n",
       "    <tr>\n",
       "      <th>122</th>\n",
       "      <td>226 de glicose</td>\n",
       "      <td>07/09/2021</td>\n",
       "      <td>20:06 hs</td>\n",
       "    </tr>\n",
       "    <tr>\n",
       "      <th>97</th>\n",
       "      <td>135 de glicose</td>\n",
       "      <td>10/08/2021</td>\n",
       "      <td>06:47 hs</td>\n",
       "    </tr>\n",
       "  </tbody>\n",
       "</table>\n",
       "</div>"
      ],
      "text/plain": [
       "     MED_DE_GLICOSE          DATA          HORARIO\n",
       "77   134 de glicose    23/07/2021         06:42 hs\n",
       "18   174 de glicose    11/06/2021         21:16 hs\n",
       "82   135 de glicose    27/07/2021         07:00 hs\n",
       "122  226 de glicose    07/09/2021         20:06 hs\n",
       "97   135 de glicose    10/08/2021         06:47 hs"
      ]
     },
     "execution_count": 9,
     "metadata": {},
     "output_type": "execute_result"
    }
   ],
   "source": [
    "registro.sample(5)\n",
    "# mostra a quantidade solicitada de valores aleatórios do data frame"
   ]
  },
  {
   "cell_type": "code",
   "execution_count": 10,
   "id": "759972de",
   "metadata": {},
   "outputs": [
    {
     "data": {
      "text/html": [
       "<div>\n",
       "<style scoped>\n",
       "    .dataframe tbody tr th:only-of-type {\n",
       "        vertical-align: middle;\n",
       "    }\n",
       "\n",
       "    .dataframe tbody tr th {\n",
       "        vertical-align: top;\n",
       "    }\n",
       "\n",
       "    .dataframe thead th {\n",
       "        text-align: right;\n",
       "    }\n",
       "</style>\n",
       "<table border=\"1\" class=\"dataframe\">\n",
       "  <thead>\n",
       "    <tr style=\"text-align: right;\">\n",
       "      <th></th>\n",
       "      <th>MED_DE_GLICOSE</th>\n",
       "      <th>DATA</th>\n",
       "      <th>HORARIO</th>\n",
       "    </tr>\n",
       "  </thead>\n",
       "  <tbody>\n",
       "    <tr>\n",
       "      <th>count</th>\n",
       "      <td>135</td>\n",
       "      <td>135</td>\n",
       "      <td>135</td>\n",
       "    </tr>\n",
       "    <tr>\n",
       "      <th>unique</th>\n",
       "      <td>73</td>\n",
       "      <td>85</td>\n",
       "      <td>106</td>\n",
       "    </tr>\n",
       "    <tr>\n",
       "      <th>top</th>\n",
       "      <td>134 de glicose</td>\n",
       "      <td>20/06/2021</td>\n",
       "      <td>06:35 hs</td>\n",
       "    </tr>\n",
       "    <tr>\n",
       "      <th>freq</th>\n",
       "      <td>6</td>\n",
       "      <td>4</td>\n",
       "      <td>4</td>\n",
       "    </tr>\n",
       "  </tbody>\n",
       "</table>\n",
       "</div>"
      ],
      "text/plain": [
       "        MED_DE_GLICOSE          DATA          HORARIO\n",
       "count              135           135              135\n",
       "unique              73            85              106\n",
       "top     134 de glicose    20/06/2021         06:35 hs\n",
       "freq                 6             4                4"
      ]
     },
     "execution_count": 10,
     "metadata": {},
     "output_type": "execute_result"
    }
   ],
   "source": [
    "registro.describe()\n",
    "# Descreve as colunas núméricas\n",
    "# count = quantidade de linhas = quantidade de registros\n",
    "# unique = valores únicos\n",
    "# top = valor que mais aparece\n",
    "# freq = quantidades mais frequentes referentes ao top"
   ]
  },
  {
   "cell_type": "code",
   "execution_count": 11,
   "id": "2f5ff0dc",
   "metadata": {},
   "outputs": [
    {
     "name": "stdout",
     "output_type": "stream",
     "text": [
      "<class 'pandas.core.frame.DataFrame'>\n",
      "RangeIndex: 135 entries, 0 to 134\n",
      "Data columns (total 3 columns):\n",
      " #   Column            Non-Null Count  Dtype \n",
      "---  ------            --------------  ----- \n",
      " 0   MED_DE_GLICOSE    135 non-null    object\n",
      " 1     DATA            135 non-null    object\n",
      " 2            HORARIO  135 non-null    object\n",
      "dtypes: object(3)\n",
      "memory usage: 3.3+ KB\n"
     ]
    }
   ],
   "source": [
    "registro.info()\n",
    "# Descreve os dados e mostra quantidade de memória utilizada."
   ]
  },
  {
   "cell_type": "code",
   "execution_count": 14,
   "id": "b20bbfea",
   "metadata": {},
   "outputs": [
    {
     "data": {
      "text/plain": [
       "134 de glicose    6\n",
       "147 de glicose    6\n",
       "135 de glicose    5\n",
       "146 de glicose    4\n",
       "145 de glicose    4\n",
       "                 ..\n",
       "104 de glicose    1\n",
       "223 de glicose    1\n",
       "205 de glicose    1\n",
       "160 de glicose    1\n",
       "195 de glicose    1\n",
       "Name: MED_DE_GLICOSE, Length: 73, dtype: int64"
      ]
     },
     "execution_count": 14,
     "metadata": {},
     "output_type": "execute_result"
    }
   ],
   "source": [
    "registro['MED_DE_GLICOSE'].value_counts()\n",
    "# QUANTIDADE DE OCORRÊNCIAS DAS LEITURAS."
   ]
  },
  {
   "cell_type": "code",
   "execution_count": 15,
   "id": "762e1187",
   "metadata": {},
   "outputs": [],
   "source": [
    "%matplotlib inline\n",
    "# mostra o gráfico dentro do notebook"
   ]
  },
  {
   "cell_type": "code",
   "execution_count": 16,
   "id": "0421549b",
   "metadata": {},
   "outputs": [
    {
     "data": {
      "text/plain": [
       "<AxesSubplot:>"
      ]
     },
     "execution_count": 16,
     "metadata": {},
     "output_type": "execute_result"
    },
    {
     "data": {
      "image/png": "[encoded data removed]",
      "text/plain": [
       "<Figure size 432x288 with 1 Axes>"
      ]
     },
     "metadata": {
      "needs_background": "light"
     },
     "output_type": "display_data"
    }
   ],
   "source": [
    "registro['MED_DE_GLICOSE'].value_counts().plot.barh()\n",
    "# cria um gráfico com valores unicos da coluna selecionada"
   ]
  }
 ],
 "metadata": {
  "kernelspec": {
   "display_name": "Python 3",
   "language": "python",
   "name": "python3"
  },
  "language_info": {
   "codemirror_mode": {
    "name": "ipython",
    "version": 3
   },
   "file_extension": ".py",
   "mimetype": "text/x-python",
   "name": "python",
   "nbconvert_exporter": "python",
   "pygments_lexer": "ipython3",
   "version": "3.8.8"
  }
 },
 "nbformat": 4,
 "nbformat_minor": 5
}
